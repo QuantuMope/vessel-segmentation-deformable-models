{
 "cells": [
  {
   "cell_type": "markdown",
   "metadata": {},
   "source": [
    "# Active contour segmentation pre-processing performance comparison"
   ]
  },
  {
   "cell_type": "code",
   "execution_count": 1,
   "metadata": {},
   "outputs": [],
   "source": [
    "# Import libraries\n",
    "import os\n",
    "import numpy as np\n",
    "import matplotlib.pyplot as plt\n",
    "import cv2\n",
    "import utils\n",
    "import lsm\n",
    "from imageio import imwrite\n",
    "from skimage import img_as_float\n",
    "from scipy.ndimage.filters import gaussian_filter # For a Gaussian blur"
   ]
  },
  {
   "cell_type": "markdown",
   "metadata": {},
   "source": [
    "## Define hyperparameters"
   ]
  },
  {
   "cell_type": "code",
   "execution_count": 2,
   "metadata": {},
   "outputs": [],
   "source": [
    "# Define the size\n",
    "n1 = 1024\n",
    "n2 = 1024\n",
    "\n",
    "# Paramters for a level set method\n",
    "rho = 1        # No need to modify this. It doesn't affect the result very much.\n",
    "sigma   = 1e-7 # A parameter for a convolution. Higher the value, lesser the noise and lower the accuracy.\n",
    "omega   = 0.2  # A ratio of gG and gL functions. gL + omega * gG.\n",
    "epsilon = 0.2  # A paramter for a H_epsilon function.\n",
    "\n",
    "# Run a method\n",
    "max_iter = 600 # Maximum iterations\n",
    "print_every = -1 # Verbose. Print every [print_every] iteration. It won't print out if -1\n",
    "step_size = 500 # step size of the method"
   ]
  },
  {
   "cell_type": "markdown",
   "metadata": {},
   "source": [
    "## ENTER YOUR INDICES HERE\n",
    "\n",
    "Split your total workload between notebooks for multiprocessing.\n",
    "Divide according to your available cpu."
   ]
  },
  {
   "cell_type": "code",
   "execution_count": 3,
   "metadata": {},
   "outputs": [],
   "source": [
    "start_indice = 0\n",
    "end_indice = 4\n",
    "data_dir = \"../../unannotated_data/\"    # directory of the unannotated image files\n",
    "output_dir = \"./segmentation_data/\"     # directory you want the segmentations to be stored"
   ]
  },
  {
   "cell_type": "markdown",
   "metadata": {},
   "source": [
    "## Import data"
   ]
  },
  {
   "cell_type": "code",
   "execution_count": 4,
   "metadata": {},
   "outputs": [],
   "source": [
    "# Get Data\n",
    "data = utils.obtain_indicated_data(s_i=start_indice, e_i=end_indice, data_dir=data_dir)\n",
    "names = data['names']\n",
    "images = data['images']"
   ]
  },
  {
   "cell_type": "markdown",
   "metadata": {},
   "source": [
    "## Comparison of Gaussian blur and Gaussian blur + contrast enhancement"
   ]
  },
  {
   "cell_type": "code",
   "execution_count": 5,
   "metadata": {
    "scrolled": true
   },
   "outputs": [
    {
     "name": "stdout",
     "output_type": "stream",
     "text": [
      "Starting image with index: 0\n",
      "4.17% completed\n",
      "8.33% completed\n",
      "12.50% completed\n",
      "16.67% completed\n",
      "20.83% completed\n",
      "25.00% completed\n",
      "Starting image with index: 1\n",
      "29.17% completed\n",
      "33.33% completed\n",
      "37.50% completed\n",
      "41.67% completed\n",
      "45.83% completed\n",
      "50.00% completed\n",
      "Starting image with index: 2\n",
      "54.17% completed\n",
      "58.33% completed\n",
      "62.50% completed\n",
      "66.67% completed\n",
      "70.83% completed\n",
      "75.00% completed\n",
      "Starting image with index: 3\n",
      "79.17% completed\n",
      "83.33% completed\n",
      "87.50% completed\n",
      "91.67% completed\n",
      "95.83% completed\n",
      "100.00% completed\n",
      "Finished\n"
     ]
    }
   ],
   "source": [
    "def preprocess_img(img_index, sigmas=[1.0, 1.5, 2.0], clip_limits=[2.0, 4.0]):\n",
    "    \n",
    "    # Resize the image\n",
    "    image = images[img_index]\n",
    "    image = cv2.resize(image, (n2, n1))  # Resizing to (n2,n1)\n",
    "    name = names[img_index]\n",
    "    \n",
    "    # Three sigmas and two clip limits -> 6 total segmentations\n",
    "    processed_images = []\n",
    "    for sigma in sigmas:\n",
    "        \n",
    "        # Apply Gaussian blur\n",
    "        gb_image = utils.scale_to_uint(gaussian_filter(image, sigma=sigma))\n",
    "        \n",
    "        for clip_limit in clip_limits:\n",
    "            # Improve contrast\n",
    "            clahe = cv2.createCLAHE(clipLimit=clip_limit, tileGridSize=(8, 8))\n",
    "            processed_images.append(img_as_float(np.array(clahe.apply(np.expand_dims(gb_image, axis=-1))).squeeze()))\n",
    "            \n",
    "    return image, name, processed_images\n",
    "                                    \n",
    "# Create a output directory if it doesn't exist already\n",
    "if not os.path.exists(output_dir): os.mkdir(output_dir)\n",
    "                                    \n",
    "combos = [(1.0, 2.0), (1.0, 4.0), (1.5, 2.0), (1.5, 4.0), (2.0, 2.0), (2.0, 4.0)]\n",
    "num_imgs = len(names)\n",
    "total_jobs = num_imgs * len(combos)\n",
    "\n",
    "# Perform segmentations\n",
    "for n, i in enumerate(range(start_indice, end_indice)):\n",
    "    print(\"Starting image with index: {}\".format(i))\n",
    "    image, name, processed_imgs = preprocess_img(n)\n",
    "    \n",
    "    # Make a directory for each image file\n",
    "    name = os.path.splitext(name)[0]\n",
    "    dir_name = output_dir + name + \"/\"\n",
    "    if not os.path.exists(dir_name): os.mkdir(dir_name)\n",
    "        \n",
    "    # Save original file so we can easily compare within the directory\n",
    "    imwrite(dir_name + name + \".png\", (image * 255).astype(np.uint8))\n",
    "    \n",
    "    for j, img in enumerate(processed_imgs):\n",
    "        # Create a lsm object\n",
    "        curr_lsm = lsm.LSM(n1, n2, rho, sigma, omega, epsilon)\n",
    "\n",
    "        # Initialize based on center of mass using smoothing method\n",
    "        curr_lsm.initialize_phi(image)\n",
    "\n",
    "        # Run a method.\n",
    "        phi = utils.run_lsm(img, curr_lsm, step_size=step_size, max_iter=max_iter, \n",
    "                            print_every=print_every, do_plot=False)\n",
    "        \n",
    "        # Obtain segmentation\n",
    "        segment = np.zeros_like(image)\n",
    "        segment[phi >= 0] = 1\n",
    "        segment = (segment * 255).astype(np.uint8)\n",
    "        \n",
    "        # Later the chosen file names can have these parameters stripped easily with a script\n",
    "        imwrite(dir_name + name + \".sigma\" + str(combos[j][0]) + \"_clip\" + str(combos[j][1]) + \".png\", segment)\n",
    "        \n",
    "        print(\"{:.2f}% completed\".format(100*(1+j+i*6)/total_jobs))\n",
    "        \n",
    "print(\"Finished\")"
   ]
  }
 ],
 "metadata": {
  "kernelspec": {
   "display_name": "Python 3",
   "language": "python",
   "name": "python3"
  },
  "language_info": {
   "codemirror_mode": {
    "name": "ipython",
    "version": 3
   },
   "file_extension": ".py",
   "mimetype": "text/x-python",
   "name": "python",
   "nbconvert_exporter": "python",
   "pygments_lexer": "ipython3",
   "version": "3.8.5"
  }
 },
 "nbformat": 4,
 "nbformat_minor": 4
}